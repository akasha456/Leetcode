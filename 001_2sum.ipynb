{
  "nbformat": 4,
  "nbformat_minor": 0,
  "metadata": {
    "colab": {
      "provenance": []
    },
    "kernelspec": {
      "name": "python3",
      "display_name": "Python 3"
    },
    "language_info": {
      "name": "python"
    }
  },
  "cells": [
    {
      "cell_type": "code",
      "execution_count": null,
      "metadata": {
        "id": "KOKEKK0V8dVX"
      },
      "outputs": [],
      "source": [
        "class Solution:\n",
        "    def twoSum(self, nums: List[int], target: int) -> List[int]:\n",
        "        hashmap ={}\n",
        "        #hashmap has format {num:index}\n",
        "        for index,num in enumerate(nums):\n",
        "            if target - num in hashmap:\n",
        "                return [index,hashmap[target-num]]\n",
        "            hashmap[num] = index"
      ]
    }
  ]
}